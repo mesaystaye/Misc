{
  "nbformat": 4,
  "nbformat_minor": 0,
  "metadata": {
    "colab": {
      "provenance": [],
      "include_colab_link": true
    },
    "kernelspec": {
      "name": "python3",
      "display_name": "Python 3"
    },
    "language_info": {
      "name": "python"
    }
  },
  "cells": [
    {
      "cell_type": "markdown",
      "metadata": {
        "id": "view-in-github",
        "colab_type": "text"
      },
      "source": [
        "<a href=\"https://colab.research.google.com/github/mesaystaye/Misc/blob/main/project3_3113_zelalae2.ipynb\" target=\"_parent\"><img src=\"https://colab.research.google.com/assets/colab-badge.svg\" alt=\"Open In Colab\"/></a>"
      ]
    },
    {
      "cell_type": "markdown",
      "source": [
        "<a id=\"org2f36528\"></a>\n",
        "\n",
        "# Section 1: Technical Details and Performance Metrics\n",
        "\n",
        "\n",
        "<a id=\"org295a350\"></a>\n",
        "\n",
        "## Technical Details of the Sentiment Classification Model\n",
        "\n",
        "Our sentiment classification model utilizes **Logistic Regression** with **Elastic Net regularization** to predict the sentiment of movie reviews. Below are the key components and steps involved in the model&rsquo;s implementation, ensuring reproducibility:\n",
        "\n",
        "\n",
        "<a id=\"org0a32089\"></a>\n",
        "\n",
        "### Data Preprocessing:\n",
        "\n",
        "-   **HTML Removal**:: Employed \\`BeautifulSoup\\` to strip HTML tags from raw review texts, ensuring only meaningful textual content is processed.\n",
        "\n",
        "-   **Non-letter Character Removal**:: Utilized regular expressions (\\`re\\` module) to eliminate all non-alphabetic characters, retaining only letters to reduce noise and focus on relevant textual information.\n",
        "\n",
        "-   **Lowercasing and Tokenization**:: Converted all text to lowercase and split reviews into individual words (tokens) to maintain consistency and enhance model effectiveness.\n",
        "\n",
        "-   **Stopword Removal**:: Removed common English stopwords using NLTK&rsquo;s \\`stopwords\\` corpus. This step eliminates words that do not contribute significantly to sentiment analysis, such as &ldquo;the,&rdquo; &ldquo;is,&rdquo; and &ldquo;and.&rdquo;\n",
        "\n",
        "\n",
        "<a id=\"org81dadd2\"></a>\n",
        "\n",
        "### Model Implementation:\n",
        "\n",
        "-   **Algorithm**:: Implemented Logistic Regression with Elastic Net regularization (\\`penalty=&rsquo;elasticnet&rsquo;\\`) to balance between L1 and L2 regularization (\\`l1<sub>ratio</sub>=0\\`). This configuration primarily employs Ridge Regression (L2) to handle multicollinearity and prevent overfitting.\n",
        "\n",
        "-   **Solver**:: Selected the &rsquo;saga&rsquo; solver, which is efficient for large datasets and supports Elastic Net regularization.\n",
        "\n",
        "-   **Hyperparameters**::\n",
        "    -   \\`C=5\\`:: Inversely proportional to regularization strength.\n",
        "    -   \\`max<sub>iter</sub>=1000\\`:: Sets the maximum number of iterations.\n",
        "    -   \\`random<sub>state</sub>=42\\`:: Ensures reproducibility.\n",
        "\n",
        "-   **Training**:: The model was trained on the preprocessed and vectorized training data, learning to associate feature patterns with sentiment labels.\n",
        "\n",
        "\n",
        "<a id=\"org7403d69\"></a>\n",
        "\n",
        "### Prediction and Evaluation:\n",
        "\n",
        "-   **Prediction**:: After training, the model predicts the probability of each review belonging to the positive sentiment class.\n",
        "\n",
        "-   **Evaluation Metric**:: Utilized the Area Under the Receiver Operating Characteristic Curve (AUC-ROC) to assess the model&rsquo;s performance.\n",
        "\n",
        "\n",
        "<a id=\"org10e84d1\"></a>\n",
        "\n",
        "## Performance Metrics\n",
        "\n",
        "The model was evaluated across five distinct data splits with the following results:\n",
        "\n",
        "<table border=\"2\" cellspacing=\"0\" cellpadding=\"6\" rules=\"groups\" frame=\"hsides\">\n",
        "\n",
        "\n",
        "<colgroup>\n",
        "<col  class=\"org-right\" />\n",
        "\n",
        "<col  class=\"org-right\" />\n",
        "\n",
        "<col  class=\"org-left\" />\n",
        "</colgroup>\n",
        "<thead>\n",
        "<tr>\n",
        "<th scope=\"col\" class=\"org-right\">Split</th>\n",
        "<th scope=\"col\" class=\"org-right\">AUC Score</th>\n",
        "<th scope=\"col\" class=\"org-left\">Execution Time</th>\n",
        "</tr>\n",
        "</thead>\n",
        "<tbody>\n",
        "<tr>\n",
        "<td class=\"org-right\">1</td>\n",
        "<td class=\"org-right\">0.987140</td>\n",
        "<td class=\"org-left\">12.71 seconds</td>\n",
        "</tr>\n",
        "\n",
        "<tr>\n",
        "<td class=\"org-right\">2</td>\n",
        "<td class=\"org-right\">0.986762</td>\n",
        "<td class=\"org-left\">12.59 seconds</td>\n",
        "</tr>\n",
        "\n",
        "<tr>\n",
        "<td class=\"org-right\">3</td>\n",
        "<td class=\"org-right\">0.986423</td>\n",
        "<td class=\"org-left\">12.72 seconds</td>\n",
        "</tr>\n",
        "\n",
        "<tr>\n",
        "<td class=\"org-right\">4</td>\n",
        "<td class=\"org-right\">0.986954</td>\n",
        "<td class=\"org-left\">12.51 seconds</td>\n",
        "</tr>\n",
        "\n",
        "<tr>\n",
        "<td class=\"org-right\">5</td>\n",
        "<td class=\"org-right\">0.986348</td>\n",
        "<td class=\"org-left\">12.66 seconds</td>\n",
        "</tr>\n",
        "</tbody>\n",
        "<tbody>\n",
        "<tr>\n",
        "<td class=\"org-right\">Average</td>\n",
        "<td class=\"org-right\">0.986665</td>\n",
        "<td class=\"org-left\">12.64 seconds</td>\n",
        "</tr>\n",
        "</tbody>\n",
        "</table>\n",
        "\n",
        "**Average AUC:** 0.986665\n",
        "\n",
        "\n",
        "<a id=\"org651136a\"></a>\n",
        "\n",
        "## Computer System Specifications\n",
        "\n",
        "The model was trained and evaluated on the following hardware setup:\n",
        "\n",
        "-   **System**:: Darwin (macOS)\n",
        "-   **Processor**:: ARM-based architecture\n",
        "-   **Physical Cores**:: 14\n",
        "-   **Total Memory**:: 36.0 GB\n",
        "\n",
        "\n",
        "<a id=\"org7f3fcf8\"></a>\n",
        "\n",
        "# Section 2: Interpretability Approach\n",
        "\n",
        "To elucidate how our Logistic Regression model arrives at its sentiment predictions, we employed **LIME (Local Interpretable Model-agnostic Explanations)** alongside **Global Interpretability** techniques.\n",
        "\n",
        "\n",
        "<a id=\"orgeef9ef7\"></a>\n",
        "\n",
        "## Objective\n",
        "\n",
        "-   **Local Interpretability**:: While the model achieves high overall performance, it&rsquo;s essential to comprehend the rationale behind individual predictions.\n",
        "\n",
        "-   **Global Interpretability**:: Understanding the overall influence of features (words/phrases) on the model&rsquo;s predictions to gain insights into its decision-making process.\n",
        "\n",
        "\n",
        "<a id=\"org2c84e3c\"></a>\n",
        "\n",
        "## Implementation Steps\n",
        "\n",
        "\n",
        "<a id=\"orge01dbb2\"></a>\n",
        "\n",
        "### Local Interpretability with LIME\n",
        "\n",
        "-   **Selection of Reviews**:: Chose 5 positive and 5 negative reviews from the test set to analyze.\n",
        "\n",
        "-   **Model-Agnostic Explanation**::\n",
        "    -   **Perturbation**:: LIME generates perturbed samples by modifying the original text (e.g., removing or altering words).\n",
        "    -   **Model Predictions**:: The trained Logistic Regression model predicts sentiment probabilities for these perturbed samples.\n",
        "    -   **Local Model Training**:: LIME fits a simple, interpretable model to approximate the behavior of the complex model in the vicinity of the instance being explained.\n",
        "    -   **Feature Importance**:: The weights assigned by the local model indicate the importance of each word or phrase in influencing the sentiment prediction.\n",
        "\n",
        "-   **Visualization and Highlighting**::\n",
        "    -   **HTML Reports**:: Generated HTML files that visually represent the contribution of each feature (word/phrase) to the prediction.\n",
        "    -   **Highlighted Reviews**:: Created HTML versions of the original reviews with the top contributing words highlighted to provide a qualitative understanding of the model&rsquo;s decisions.\n",
        "\n",
        "\n",
        "<a id=\"org96c853a\"></a>\n",
        "\n",
        "### Global Interpretability\n",
        "\n",
        "-   **Feature Importance Analysis**:: Examined the Logistic Regression model&rsquo;s coefficients to identify the most influential words and phrases contributing to positive and negative sentiments.\n",
        "\n",
        "-   **Visualization**:: Generated bar plots showcasing the top 10 positive and top 10 negative coefficients, providing a clear overview of feature significance across the entire model.\n",
        "\n",
        "\n",
        "<a id=\"org1b13821\"></a>\n",
        "\n",
        "## Conclusion\n",
        "\n",
        "Integrating LIME into our sentiment classification pipeline enhances both local and global interpretability. Local explanations provide transparency for individual predictions, fostering trust and facilitating error analysis. Meanwhile, global interpretability offers a comprehensive understanding of feature influences, guiding future model refinements and ensuring alignment with domain knowledge.\n",
        "\n",
        "This dual approach underscores our commitment to building reliable, transparent, and accountable machine learning systems.\n",
        "\n"
      ],
      "metadata": {
        "id": "nKmVeH7Gxptq"
      }
    },
    {
      "cell_type": "code",
      "execution_count": null,
      "metadata": {
        "id": "ZjEGQz1WbSyc"
      },
      "outputs": [],
      "source": [
        "# To remove punctuation and numbers\n",
        "import re\n",
        "import pandas as pd\n",
        "import numpy as np\n",
        "import warnings\n",
        "\n",
        "#Vis\n",
        "import matplotlib.pyplot as plt\n",
        "import seaborn as sns\n",
        "\n",
        "#ML\n",
        "from sklearn.ensemble import RandomForestClassifier\n",
        "from sklearn.linear_model import LogisticRegression\n",
        "from sklearn.linear_model import LogisticRegressionCV\n",
        "from sklearn.preprocessing import StandardScaler\n",
        "from sklearn.pipeline import Pipeline\n",
        "from sklearn.ensemble import GradientBoostingRegressor\n",
        "\n",
        "from sklearn.metrics import roc_auc_score\n",
        "\n",
        "from sklearn.preprocessing import PolynomialFeatures\n",
        "from sklearn.linear_model import LinearRegression\n",
        "from sklearn.pipeline import Pipeline\n",
        "from sklearn import metrics\n",
        "import statsmodels.api as sm\n",
        "\n",
        "# Import BeautifulSoup for Removing HTML Markup\n",
        "from bs4 import BeautifulSoup\n",
        "# A stop word list from the Python Natural Language Toolkit (NLTK)\n",
        "import nltk\n",
        "from nltk.corpus import stopwords\n",
        "from nltk.tokenize import sent_tokenize\n",
        "\n"
      ]
    },
    {
      "cell_type": "code",
      "source": [
        "# Removing HTML Markup: The BeautifulSoup Package\n",
        "!pip install BeautifulSoup4"
      ],
      "metadata": {
        "colab": {
          "base_uri": "https://localhost:8080/"
        },
        "id": "kJ4eHtIG7qVk",
        "outputId": "52cb9bed-7f7a-45e8-c047-1254c3a0e141"
      },
      "execution_count": null,
      "outputs": [
        {
          "output_type": "stream",
          "name": "stdout",
          "text": [
            "Requirement already satisfied: BeautifulSoup4 in /usr/local/lib/python3.10/dist-packages (4.12.3)\n",
            "Requirement already satisfied: soupsieve>1.2 in /usr/local/lib/python3.10/dist-packages (from BeautifulSoup4) (2.6)\n"
          ]
        }
      ]
    },
    {
      "cell_type": "markdown",
      "source": [],
      "metadata": {
        "id": "iFQMZ0GqxlSC"
      }
    },
    {
      "cell_type": "code",
      "source": [
        "\n",
        "nltk.download('stopwords')  # Download text data sets, including stop words\n",
        "from sklearn.feature_extraction.text import CountVectorizer\n",
        "from nltk.stem import WordNetLemmatizer\n",
        "from nltk.corpus import stopwords\n",
        "import nltk\n",
        "\n",
        "# Download necessary NLTK data\n",
        "nltk.download('wordnet')\n",
        "nltk.download('omw-1.4')  # For WordNet lemmatizer"
      ],
      "metadata": {
        "colab": {
          "base_uri": "https://localhost:8080/"
        },
        "id": "jBaNKdh77s_R",
        "outputId": "4ca8d5dc-0b4d-4727-c7c7-aa4494ab913e"
      },
      "execution_count": null,
      "outputs": [
        {
          "output_type": "stream",
          "name": "stderr",
          "text": [
            "[nltk_data] Downloading package stopwords to /root/nltk_data...\n",
            "[nltk_data]   Package stopwords is already up-to-date!\n",
            "[nltk_data] Downloading package wordnet to /root/nltk_data...\n",
            "[nltk_data] Downloading package omw-1.4 to /root/nltk_data...\n"
          ]
        },
        {
          "output_type": "execute_result",
          "data": {
            "text/plain": [
              "True"
            ]
          },
          "metadata": {},
          "execution_count": 76
        }
      ]
    },
    {
      "cell_type": "code",
      "source": [
        "from sklearn.feature_extraction.text import CountVectorizer"
      ],
      "metadata": {
        "id": "4IlBIXLc-5I_"
      },
      "execution_count": null,
      "outputs": []
    },
    {
      "cell_type": "code",
      "source": [
        "# Suppress warnings\n",
        "warnings.filterwarnings('ignore')"
      ],
      "metadata": {
        "id": "2OmWHTV6boOg"
      },
      "execution_count": null,
      "outputs": []
    },
    {
      "cell_type": "code",
      "source": [
        "from google.colab import drive\n",
        "drive.mount('/content/drive')\n"
      ],
      "metadata": {
        "colab": {
          "base_uri": "https://localhost:8080/"
        },
        "id": "ugrwOFKsbsrq",
        "outputId": "fc84313e-ddf8-43ad-f0de-dcde362ffcc0"
      },
      "execution_count": null,
      "outputs": [
        {
          "output_type": "stream",
          "name": "stdout",
          "text": [
            "Mounted at /content/drive\n"
          ]
        }
      ]
    },
    {
      "cell_type": "markdown",
      "source": [
        "##Goal\n",
        "Your goal is to achieve an AUC score of at least 0.986 across all five test data splits."
      ],
      "metadata": {
        "id": "_E4QUsnoemsS"
      }
    },
    {
      "cell_type": "markdown",
      "source": [
        "## Resources:\n",
        "- Kaggle: https://www.kaggle.com/c/word2vec-nlp-tutorial\n",
        "- What we have tried 1: https://campuswire.com/c/GB46E5679/feed/785"
      ],
      "metadata": {
        "id": "i1NrBB1m4sAn"
      }
    },
    {
      "cell_type": "code",
      "source": [
        "DATA_DIR='/content/drive/MyDrive/MastersDegree/CS598 PSL/Assignments/Projects/Project3/Data/F24_Proj3_data'"
      ],
      "metadata": {
        "id": "skL4qA0Qbu6z"
      },
      "execution_count": null,
      "outputs": []
    },
    {
      "cell_type": "markdown",
      "source": [
        "## Part 1 By Zilal"
      ],
      "metadata": {
        "id": "BDAr_2f5lPK4"
      }
    },
    {
      "cell_type": "markdown",
      "source": [
        "#Logistic Regression\n"
      ],
      "metadata": {
        "id": "VSgCURSMJPmA"
      }
    },
    {
      "cell_type": "code",
      "source": [
        "# Train the final model\n",
        "def train_logistic(X, y):\n",
        "    model = LogisticRegression(\n",
        "        penalty='elasticnet',\n",
        "        solver='saga',\n",
        "        l1_ratio=0.5, #means just Ridge Regression\n",
        "        C=5\n",
        "    )\n",
        "\n",
        "    model.fit(X, y)\n",
        "    return model"
      ],
      "metadata": {
        "id": "_hw87BwheY3s"
      },
      "execution_count": null,
      "outputs": []
    },
    {
      "cell_type": "code",
      "source": [
        "# Making Prediction\n",
        "def predict(X):\n",
        "    #X = test.drop(columns=['id', 'review'])\n",
        "    # Predict probabilities for the test data\n",
        "    y_pred_proba = model.predict_proba(X)[:, 1]  # Probabilities for positive sentiment\n",
        "    return y_pred_proba\n"
      ],
      "metadata": {
        "id": "2QZl2AUv44FL"
      },
      "execution_count": null,
      "outputs": []
    },
    {
      "cell_type": "code",
      "source": [
        "num_splits=5\n",
        "for i in range(num_splits):\n",
        "  train = pd.read_csv(f\"{DATA_DIR}/split_{i+1}/train.csv\")\n",
        "  test = pd.read_csv(f\"{DATA_DIR}/split_{i+1}/test.csv\")\n",
        "\n",
        "\n",
        "  # Separate features and target\n",
        "  X_train = train.drop(columns=['id', 'sentiment', 'review'])\n",
        "  y_train = train['sentiment']\n",
        "  X_test = test.drop(columns=['id', 'review'])\n",
        "\n",
        "\n",
        "  # Logistic regression without penalty as baseline\n",
        "  model = train_logistic(X_train, y_train)\n",
        "  y_pred_proba = predict(X_train)\n",
        "  auc_baseline = roc_auc_score(y_train, y_pred_proba)\n",
        "  print(f\"Baseline Logistic Regression AUC in split {i+1}: {auc_baseline:.4f}\")\n",
        "\n",
        "  submission = pd.DataFrame({\n",
        "    'id': test['id'],\n",
        "    'prob': y_pred_proba\n",
        "  })\n",
        "\n",
        "  submission.to_csv(f'{DATA_DIR}/split_{i+1}/mysubmission.csv', index=False)\n",
        "\n",
        "    # Calculate AUC on the test data\n",
        "  y_test = pd.read_csv(f'{DATA_DIR}/split_{i+1}/test_y.csv')['sentiment']\n",
        "  y_pred_proba = predict(X_test)\n",
        "\n",
        "  test_auc_score = roc_auc_score(y_test, y_pred_proba)\n",
        "  print(f\"Best AUC Score on Test Data: in split {i+1}: {test_auc_score:.4f}\")\n"
      ],
      "metadata": {
        "id": "TCihAbT1ZgSr"
      },
      "execution_count": null,
      "outputs": []
    },
    {
      "cell_type": "markdown",
      "source": [
        "##**Part 2 By Jianci and Messay**"
      ],
      "metadata": {
        "id": "vJYUU03hk2Ib"
      }
    },
    {
      "cell_type": "code",
      "source": [
        "num_splits=1\n",
        "for i in range(num_splits):\n",
        "  train = pd.read_csv(f\"{DATA_DIR}/split_{i+1}/train.csv\")\n",
        "  test = pd.read_csv(f\"{DATA_DIR}/split_{i+1}/test.csv\")\n",
        "\n",
        "\n",
        "  # Separate features and target\n",
        "  X_train = train.drop(columns=['id', 'sentiment', 'review'])\n",
        "  y_train = train['sentiment']\n",
        "  X_test = test.drop(columns=['id', 'review'])\n",
        "\n",
        "\n",
        "  # Logistic regression without penalty as baseline\n",
        "  model = train_logistic(X_train, y_train)\n",
        "  y_pred_proba = predict(X_train)\n",
        "  auc_baseline = roc_auc_score(y_train, y_pred_proba)\n",
        "  print(f\"Baseline Logistic Regression AUC in split {i+1}: {auc_baseline:.4f}\")\n",
        "\n",
        "  submission = pd.DataFrame({\n",
        "    'id': test['id'],\n",
        "    'prob': y_pred_proba\n",
        "  })\n",
        "\n",
        "  submission.to_csv(f'{DATA_DIR}/split_{i+1}/mysubmission.csv', index=False)\n",
        "\n",
        "    # Calculate AUC on the test data\n",
        "  y_test = pd.read_csv(f'{DATA_DIR}/split_{i+1}/test_y.csv')['sentiment']\n",
        "  y_pred_proba = predict(X_test)\n",
        "\n",
        "  test_auc_score = roc_auc_score(y_test, y_pred_proba)\n",
        "  print(f\"Best AUC Score on Test Data: in split {i+1}: {test_auc_score:.4f}\")\n"
      ],
      "metadata": {
        "colab": {
          "base_uri": "https://localhost:8080/"
        },
        "id": "Hj4gT6O-g0rP",
        "outputId": "dcafcdf1-15bb-456e-d54f-1e9312e989a2"
      },
      "execution_count": null,
      "outputs": [
        {
          "output_type": "stream",
          "name": "stdout",
          "text": [
            "Baseline Logistic Regression AUC in split 1: 0.9906\n",
            "Best AUC Score on Test Data: in split 1: 0.9871\n"
          ]
        }
      ]
    },
    {
      "cell_type": "code",
      "source": [
        "coefficients = model.coef_  # For multi-class models, it's one row per class\n",
        "importance = np.abs(coefficients).mean(axis=0)  # Aggregate importance for multi-class\n",
        "\n",
        "# Create a DataFrame for features and their importance\n",
        "feature_importance = pd.DataFrame({\n",
        "    'Feature':X_train.columns,\n",
        "    'Importance': importance\n",
        "}).sort_values(by='Importance', ascending=False)\n",
        "\n",
        "feature_importance['Importance_Percent'] = feature_importance['Importance']/(feature_importance['Importance'].sum())*100"
      ],
      "metadata": {
        "id": "K_PuJlnS1-x0"
      },
      "execution_count": null,
      "outputs": []
    },
    {
      "cell_type": "code",
      "source": [
        "cor_lst = X_train.corrwith(y_train).sort_values(ascending=False).reset_index()\n",
        "cor_lst.columns=['Feature', 'Correlation']"
      ],
      "metadata": {
        "id": "1P_d2R_w2En2"
      },
      "execution_count": null,
      "outputs": []
    },
    {
      "cell_type": "code",
      "source": [
        "feature_summary = cor_lst.merge(feature_importance, on='Feature', how='left').sort_values(by='Correlation', ascending=False)"
      ],
      "metadata": {
        "id": "kNc-d6iF2PZL"
      },
      "execution_count": null,
      "outputs": []
    },
    {
      "cell_type": "code",
      "source": [
        "feature_important_list_df = feature_summary[(abs(feature_summary['Correlation']) > 0.3) & (feature_summary['Importance_Percent'] > 0.1)]\n",
        "feature_important_list = feature_important_list_df['Feature'].tolist()\n",
        "len(feature_important_list)"
      ],
      "metadata": {
        "colab": {
          "base_uri": "https://localhost:8080/"
        },
        "id": "S0P5ayts2St9",
        "outputId": "191f78f4-70de-4d95-aae2-228d8ba8776d"
      },
      "execution_count": null,
      "outputs": [
        {
          "output_type": "execute_result",
          "data": {
            "text/plain": [
              "54"
            ]
          },
          "metadata": {},
          "execution_count": 63
        }
      ]
    },
    {
      "cell_type": "code",
      "source": [
        "#important feature with high correlation with sentiment and prove to be high importance for prediction\n",
        "feature_important_list_df"
      ],
      "metadata": {
        "id": "x43duCZf3WWp"
      },
      "execution_count": null,
      "outputs": []
    },
    {
      "cell_type": "code",
      "source": [
        "# Define a custom tokenizer with lemmatization\n",
        "lemmatizer = WordNetLemmatizer()\n",
        "stop_words = set(stopwords.words('english'))\n",
        "def lemmatize_tokenizer(text):\n",
        "    words = text.split()  # Basic split by space\n",
        "    return [lemmatizer.lemmatize(word.lower()) for word in words if word.lower() not in stop_words]"
      ],
      "metadata": {
        "id": "RZa14pqW723s"
      },
      "execution_count": null,
      "outputs": []
    },
    {
      "cell_type": "code",
      "source": [
        "def review_to_words( raw_review ):\n",
        "    # Function to convert a raw review to a string of words\n",
        "    # The input is a single string (a raw movie review), and\n",
        "    # the output is a single string (a preprocessed movie review)\n",
        "    #\n",
        "    # 1. Remove HTML\n",
        "    review_text = BeautifulSoup(raw_review).get_text()\n",
        "    #\n",
        "    # 2. Remove non-letters\n",
        "    letters_only = re.sub(\"[^a-zA-Z]\", \" \", review_text)\n",
        "    #\n",
        "    # 3. Convert to lower case, split into individual words\n",
        "    words = letters_only.lower().split()\n",
        "    #\n",
        "    # 4. In Python, searching a set is much faster than searching\n",
        "    #   a list, so convert the stop words to a set\n",
        "    stops = set(stopwords.words(\"english\"))\n",
        "    #\n",
        "    # 5. Remove stop words\n",
        "    meaningful_words = [w for w in words if not w in stops]\n",
        "    #\n",
        "    # 6. Join the words back into one string separated by space,\n",
        "    # and return the result.\n",
        "\n",
        "    return( \" \".join( meaningful_words ))"
      ],
      "metadata": {
        "id": "7xckF7lG75rz"
      },
      "execution_count": null,
      "outputs": []
    },
    {
      "cell_type": "code",
      "source": [
        "sample_out_put = pd.DataFrame()\n",
        "sample_word_freq = pd.DataFrame(columns=[\"feature\", 'count', 'word'])\n",
        "sample_out_put\n",
        "for index, feature in enumerate(feature_important_list):\n",
        "  temp = train.sort_values(by=feature_important_list[index], ascending=False)[['sentiment','review', feature_important_list[index]]].head(5)\n",
        "  temp_train = train.sort_values(by=feature_important_list[index], ascending=False)[['sentiment','review', feature_important_list[index]]].head(500)\n",
        "  temp['feature'] = feature_important_list[index]\n",
        "  temp['score'] = temp[feature_important_list[index]]\n",
        "  temp_total_sentiment = temp['sentiment'].sum()\n",
        "  if (temp_total_sentiment == 0) | (temp_total_sentiment == 5):\n",
        "    sample_out_put = pd.concat([sample_out_put , temp[['sentiment','review','feature','score']]], axis = 0)\n",
        "    #print(temp)\n",
        "\n",
        "\n",
        "    # Get the number of reviews based on the dataframe column size\n",
        "    num_reviews = temp_train[\"review\"].size\n",
        "    print(f\"Cleaning and parsing the training set movie reviews for featuer-{feature}...\\n\")\n",
        "    # Initialize an empty list to hold the clean reviews\n",
        "    clean_train_reviews = []\n",
        "    for j in range( 0, num_reviews ):\n",
        "      # If the index is evenly divisible by 1000, print a message\n",
        "      if( (j+1)%100 == 0 ):\n",
        "        print(\"Review %d of %d\\n\" % ( j+1, num_reviews ))\n",
        "      clean_train_reviews.append( review_to_words( temp_train[\"review\"].iloc[j] ))\n",
        "\n",
        "    print(\"Creating the bag of words...\\n\")\n",
        "\n",
        "    # Initialize the \"CountVectorizer\" object, which is scikit-learn's\n",
        "    # bag of words tool.\n",
        "    vectorizer = CountVectorizer(analyzer = \"word\",\n",
        "                                tokenizer=lemmatize_tokenizer,\n",
        "                                preprocessor = None,\n",
        "                                stop_words = None,\n",
        "                                max_features = 300,\n",
        "                                ngram_range=(2,3),            # Use 1- to 4-grams\n",
        "                                min_df=0.001,                       # Minimum term frequency\n",
        "                                max_df=0.05,                      # Maximum document frequency\n",
        "                                token_pattern=r\"\\b[\\w+|3']+\\b\") # Use word tokenizer: See Ethan's comment below; at least len = 3\n",
        "\n",
        "    # fit_transform() does two functions: First, it fits the model\n",
        "    # and learns the vocabulary; second, it transforms our training data\n",
        "    # into feature vectors. The input to fit_transform should be a list of\n",
        "    # strings.\n",
        "    train_data_features = vectorizer.fit_transform(clean_train_reviews)\n",
        "\n",
        "    # Numpy arrays are easy to work with, so convert the result to an\n",
        "    # array\n",
        "    train_data_features = train_data_features.toarray()\n",
        "    # Take a look at the words in the vocabulary\n",
        "    vocab = vectorizer.get_feature_names_out()\n",
        "\n",
        "    # Sum up the counts of each vocabulary word\n",
        "    dist = np.sum(train_data_features, axis=0)\n",
        "\n",
        "    # For each, print the vocabulary word and the number of times it\n",
        "    # appears in the training set\n",
        "    for tag, count in zip(vocab, dist):\n",
        "      new_row = pd.DataFrame({'feature': feature, 'count': count, 'word': tag}, index=[0])\n",
        "      sample_word_freq = pd.concat([sample_word_freq, new_row], ignore_index=True)\n",
        "      print(feature, count, tag)\n"
      ],
      "metadata": {
        "id": "DK7zV5pb2klF"
      },
      "execution_count": null,
      "outputs": []
    },
    {
      "cell_type": "code",
      "source": [
        "sample_out_put.to_csv(f'{DATA_DIR}/split_{i+1}/sample_out_put.csv', index=False)"
      ],
      "metadata": {
        "id": "p9G8sP0oCdxe"
      },
      "execution_count": null,
      "outputs": []
    },
    {
      "cell_type": "code",
      "source": [
        "sample_word_freq.to_csv(f'{DATA_DIR}/split_{i+1}/sample_word_freq.csv', index=False)"
      ],
      "metadata": {
        "id": "XZjaAAkK6Tlc"
      },
      "execution_count": null,
      "outputs": []
    },
    {
      "cell_type": "code",
      "source": [
        "import matplotlib.pyplot as plt"
      ],
      "metadata": {
        "id": "2Q9R9dpXInsy"
      },
      "execution_count": null,
      "outputs": []
    },
    {
      "cell_type": "code",
      "source": [
        "selected_feature_important_list = sample_out_put['feature'].unique().tolist()\n",
        "for index, feature in enumerate(selected_feature_important_list):\n",
        "  df = sample_word_freq[sample_word_freq['feature']==feature].sort_values(by='count', ascending=False)[['word','count']].head(10)\n",
        "  print(sample_out_put[sample_out_put['feature']==feature])\n",
        "  plt.figure(figsize=(10, 6))\n",
        "  plt.bar(df[\"word\"], df[\"count\"])\n",
        "  plt.title(\"Word Frequency Chart\")\n",
        "  plt.xlabel(\"Word\")\n",
        "  plt.ylabel(\"Count\")\n",
        "  plt.xticks(rotation=45)  # Rotate x-axis labels for better readability\n",
        "  plt.show()"
      ],
      "metadata": {
        "id": "Z1MjocCaHxsy"
      },
      "execution_count": null,
      "outputs": []
    },
    {
      "cell_type": "markdown",
      "source": [
        "# **====================== code archive =========================**"
      ],
      "metadata": {
        "id": "3lqIeTBrCv09"
      }
    },
    {
      "cell_type": "code",
      "source": [
        "pip install wordcloud matplotlib pillow"
      ],
      "metadata": {
        "colab": {
          "base_uri": "https://localhost:8080/"
        },
        "id": "fKEcaP2l7Af7",
        "outputId": "46ffafe6-01e6-4940-b1b7-e4b9b17f9800"
      },
      "execution_count": null,
      "outputs": [
        {
          "output_type": "stream",
          "name": "stdout",
          "text": [
            "Requirement already satisfied: wordcloud in /usr/local/lib/python3.10/dist-packages (1.9.4)\n",
            "Requirement already satisfied: matplotlib in /usr/local/lib/python3.10/dist-packages (3.8.0)\n",
            "Requirement already satisfied: pillow in /usr/local/lib/python3.10/dist-packages (11.0.0)\n",
            "Requirement already satisfied: numpy>=1.6.1 in /usr/local/lib/python3.10/dist-packages (from wordcloud) (1.26.4)\n",
            "Requirement already satisfied: contourpy>=1.0.1 in /usr/local/lib/python3.10/dist-packages (from matplotlib) (1.3.1)\n",
            "Requirement already satisfied: cycler>=0.10 in /usr/local/lib/python3.10/dist-packages (from matplotlib) (0.12.1)\n",
            "Requirement already satisfied: fonttools>=4.22.0 in /usr/local/lib/python3.10/dist-packages (from matplotlib) (4.55.0)\n",
            "Requirement already satisfied: kiwisolver>=1.0.1 in /usr/local/lib/python3.10/dist-packages (from matplotlib) (1.4.7)\n",
            "Requirement already satisfied: packaging>=20.0 in /usr/local/lib/python3.10/dist-packages (from matplotlib) (24.2)\n",
            "Requirement already satisfied: pyparsing>=2.3.1 in /usr/local/lib/python3.10/dist-packages (from matplotlib) (3.2.0)\n",
            "Requirement already satisfied: python-dateutil>=2.7 in /usr/local/lib/python3.10/dist-packages (from matplotlib) (2.8.2)\n",
            "Requirement already satisfied: six>=1.5 in /usr/local/lib/python3.10/dist-packages (from python-dateutil>=2.7->matplotlib) (1.16.0)\n"
          ]
        }
      ]
    },
    {
      "cell_type": "code",
      "source": [
        "from wordcloud import WordCloud\n",
        "import matplotlib.pyplot as plt\n",
        "\n",
        "# Sample text\n",
        "text = \"Python is a great programming language. Python makes tasks easier and efficient.\"\n",
        "\n",
        "# Generate the word cloud\n",
        "wordcloud = WordCloud(width=800, height=400, background_color='white').generate(text)\n",
        "\n",
        "# Display the word cloud\n",
        "plt.figure(figsize=(10, 5))\n",
        "plt.imshow(wordcloud, interpolation='bilinear')\n",
        "plt.axis('off')  # Remove axes\n",
        "plt.show()"
      ],
      "metadata": {
        "colab": {
          "base_uri": "https://localhost:8080/",
          "height": 422
        },
        "id": "vPT9m4zS7Kcp",
        "outputId": "f6fd976e-8c47-4b9a-d0ba-80339b6859cc"
      },
      "execution_count": null,
      "outputs": [
        {
          "output_type": "display_data",
          "data": {
            "text/plain": [
              "<Figure size 1000x500 with 1 Axes>"
            ],
            "image/png": "[encoded data removed]"
          },
          "metadata": {}
        }
      ]
    },
    {
      "cell_type": "markdown",
      "source": [
        "##Libraries And Packages\n"
      ],
      "metadata": {
        "id": "CgpfcsgOvdbE"
      }
    },
    {
      "cell_type": "code",
      "source": [
        "# Removing HTML Markup: The BeautifulSoup Package\n",
        "!pip install BeautifulSoup4\n"
      ],
      "metadata": {
        "colab": {
          "base_uri": "https://localhost:8080/"
        },
        "id": "eljbS0ztvgiO",
        "outputId": "182cec40-c45f-427e-cc54-3d4c80d9e029"
      },
      "execution_count": null,
      "outputs": [
        {
          "output_type": "stream",
          "name": "stdout",
          "text": [
            "Requirement already satisfied: BeautifulSoup4 in /usr/local/lib/python3.10/dist-packages (4.12.3)\n",
            "Requirement already satisfied: soupsieve>1.2 in /usr/local/lib/python3.10/dist-packages (from BeautifulSoup4) (2.6)\n"
          ]
        }
      ]
    },
    {
      "cell_type": "markdown",
      "source": [
        "##Data Cleaning and Text Preprocessing\n",
        "- Removing HTML Markup: The BeautifulSoup Package\n",
        "- Frequently occurring words that don't carry much meaning. Such words are called \"stop words\"."
      ],
      "metadata": {
        "id": "fCgQO6n5fWKp"
      }
    },
    {
      "cell_type": "code",
      "source": [
        "\n",
        "nltk.download('stopwords')  # Download text data sets, including stop words"
      ],
      "metadata": {
        "colab": {
          "base_uri": "https://localhost:8080/"
        },
        "id": "PwfNIE8PwBsX",
        "outputId": "34298fc0-98dc-4376-aa4a-60e53848dafa"
      },
      "execution_count": null,
      "outputs": [
        {
          "output_type": "stream",
          "name": "stderr",
          "text": [
            "[nltk_data] Downloading package stopwords to /root/nltk_data...\n",
            "[nltk_data]   Unzipping corpora/stopwords.zip.\n"
          ]
        },
        {
          "output_type": "execute_result",
          "data": {
            "text/plain": [
              "True"
            ]
          },
          "metadata": {},
          "execution_count": 9
        }
      ]
    },
    {
      "cell_type": "code",
      "source": [
        "def review_to_words( raw_review ):\n",
        "    # Function to convert a raw review to a string of words\n",
        "    # The input is a single string (a raw movie review), and\n",
        "    # the output is a single string (a preprocessed movie review)\n",
        "    #\n",
        "    # 1. Remove HTML\n",
        "    review_text = BeautifulSoup(raw_review).get_text()\n",
        "    #\n",
        "    # 2. Remove non-letters\n",
        "    letters_only = re.sub(\"[^a-zA-Z]\", \" \", review_text)\n",
        "    #\n",
        "    # 3. Convert to lower case, split into individual words\n",
        "    words = letters_only.lower().split()\n",
        "    #\n",
        "    # 4. In Python, searching a set is much faster than searching\n",
        "    #   a list, so convert the stop words to a set\n",
        "    stops = set(stopwords.words(\"english\"))\n",
        "    #\n",
        "    # 5. Remove stop words\n",
        "    meaningful_words = [w for w in words if not w in stops]\n",
        "    #\n",
        "    # 6. Join the words back into one string separated by space,\n",
        "    # and return the result.\n",
        "\n",
        "    return( \" \".join( meaningful_words ))"
      ],
      "metadata": {
        "id": "Bz5_tXbC9dHx"
      },
      "execution_count": null,
      "outputs": []
    },
    {
      "cell_type": "markdown",
      "source": [
        "# Loop through and clean all of the training set at once"
      ],
      "metadata": {
        "id": "AFF2aiS6-FHn"
      }
    },
    {
      "cell_type": "code",
      "source": [
        "# Get the number of reviews based on the dataframe column size\n",
        "num_reviews = train[\"review\"].size\n",
        "print(\"Cleaning and parsing the training set movie reviews...\\n\")\n",
        "# Initialize an empty list to hold the clean reviews\n",
        "clean_train_reviews = []\n",
        "for i in range( 0, num_reviews ):\n",
        "    # If the index is evenly divisible by 1000, print a message\n",
        "    if( (i+1)%1000 == 0 ):\n",
        "        print(\"Review %d of %d\\n\" % ( i+1, num_reviews ))\n",
        "    clean_train_reviews.append( review_to_words( train[\"review\"][i] ))"
      ],
      "metadata": {
        "id": "wtVRyM0O-Zf9"
      },
      "execution_count": null,
      "outputs": []
    },
    {
      "cell_type": "code",
      "source": [
        "print(\"Creating the bag of words...\\n\")\n",
        "from sklearn.feature_extraction.text import CountVectorizer\n",
        "\n",
        "# Initialize the \"CountVectorizer\" object, which is scikit-learn's\n",
        "# bag of words tool.\n",
        "vectorizer = CountVectorizer(analyzer = \"word\",\n",
        "                             tokenizer = None,\n",
        "                             preprocessor = None,\n",
        "                             stop_words = None,\n",
        "                             max_features = 5000,\n",
        "                             ngram_range=(1, 4),            # Use 1- to 4-grams\n",
        "                             min_df=0.001,                       # Minimum term frequency\n",
        "                             max_df=0.5,                      # Maximum document frequency\n",
        "                             token_pattern=r\"\\b[\\w+|']+\\b\") # Use word tokenizer: See Ethan's comment below\n",
        "\n",
        "# fit_transform() does two functions: First, it fits the model\n",
        "# and learns the vocabulary; second, it transforms our training data\n",
        "# into feature vectors. The input to fit_transform should be a list of\n",
        "# strings.\n",
        "train_data_features = vectorizer.fit_transform(clean_train_reviews)\n",
        "\n",
        "# Numpy arrays are easy to work with, so convert the result to an\n",
        "# array\n",
        "train_data_features = train_data_features.toarray()"
      ],
      "metadata": {
        "colab": {
          "base_uri": "https://localhost:8080/"
        },
        "id": "aD0uvMj9QjKD",
        "outputId": "8cb5c472-c76d-45e2-870f-08a41e91638a"
      },
      "execution_count": null,
      "outputs": [
        {
          "metadata": {
            "tags": null
          },
          "name": "stdout",
          "output_type": "stream",
          "text": [
            "Creating the bag of words...\n",
            "\n"
          ]
        }
      ]
    },
    {
      "cell_type": "code",
      "source": [
        "# Take a look at the words in the vocabulary\n",
        "vocab = vectorizer.get_feature_names_out()\n",
        "print(vocab)"
      ],
      "metadata": {
        "colab": {
          "base_uri": "https://localhost:8080/"
        },
        "id": "VUg9eiv5FLNR",
        "outputId": "b97ad129-eced-4299-ddb6-22eea4ea1ae3"
      },
      "execution_count": null,
      "outputs": [
        {
          "metadata": {
            "tags": null
          },
          "name": "stdout",
          "output_type": "stream",
          "text": [
            "['aaron' 'abandoned' 'abc' ... 'zombie' 'zombies' 'zone']\n"
          ]
        }
      ]
    },
    {
      "cell_type": "code",
      "source": [
        "# Sum up the counts of each vocabulary word\n",
        "dist = np.sum(train_data_features, axis=0)\n",
        "\n",
        "# For each, print the vocabulary word and the number of times it\n",
        "# appears in the training set\n",
        "for tag, count in zip(vocab, dist):\n",
        "    print(count, tag)"
      ],
      "metadata": {
        "id": "OlUE6SGJSI4n"
      },
      "execution_count": null,
      "outputs": []
    },
    {
      "cell_type": "code",
      "source": [
        "print(\"Training the random forest...\")\n",
        "\n",
        "# Initialize a Random Forest classifier with 100 trees\n",
        "forest = RandomForestClassifier(n_estimators = 100)\n",
        "\n",
        "# Fit the forest to the training set, using the bag of words as\n",
        "# features and the sentiment labels as the response variable\n",
        "#\n",
        "# This may take a few minutes to run\n",
        "forest = forest.fit( train_data_features, train[\"sentiment\"] )"
      ],
      "metadata": {
        "colab": {
          "base_uri": "https://localhost:8080/"
        },
        "id": "x02rzfuuAbsj",
        "outputId": "55751017-349b-4357-fd2b-8d3d99a8c0ee"
      },
      "execution_count": null,
      "outputs": [
        {
          "metadata": {
            "tags": null
          },
          "name": "stdout",
          "output_type": "stream",
          "text": [
            "Training the random forest...\n"
          ]
        }
      ]
    },
    {
      "cell_type": "code",
      "source": [
        "# Create an empty list and append the clean reviews one by one\n",
        "num_reviews = len(test[\"review\"])\n",
        "clean_test_reviews = []\n",
        "\n",
        "print(\"Cleaning and parsing the test set movie reviews...\\n\")\n",
        "for i in range(0,num_reviews):\n",
        "    if( (i+1) % 1000 == 0 ):\n",
        "        print(\"Review %d of %d\\n\" % (i+1, num_reviews))\n",
        "    clean_review = review_to_words( test[\"review\"][i] )\n",
        "    clean_test_reviews.append( clean_review )\n",
        "\n",
        "# Get a bag of words for the test set, and convert to a numpy array\n",
        "test_data_features = vectorizer.transform(clean_test_reviews)\n",
        "test_data_features = test_data_features.toarray()\n",
        "\n",
        "\n",
        "\n",
        "\n"
      ],
      "metadata": {
        "id": "mbxV_LX-CNeh"
      },
      "execution_count": null,
      "outputs": []
    },
    {
      "cell_type": "code",
      "source": [
        "def interpret_model(model, vectorizer, test_reviews, y_test, DATA_DIR):\n",
        "    \"\"\"\n",
        "    Interpret model predictions for 5 positive and 5 negative reviews using LIME.\n",
        "\n",
        "    Parameters:\n",
        "    - model: Trained model (LogisticRegression).\n",
        "    - vectorizer: Fitted CountVectorizer.\n",
        "    - test_reviews: Original test reviews.\n",
        "    - y_test: Model's predictions for test data.\n",
        "    - DATA_DIR: Directory path to save interpretability outputs.\n",
        "    \"\"\"\n",
        "    # Get model predictions to identify positive/negative examples\n",
        "    test_features = vectorizer.transform([review_to_words(review, set(stopwords.words(\"english\")))\n",
        "                                        for review in test_reviews]).toarray()\n",
        "    y_pred = model.predict(test_features)\n",
        "\n",
        "    # Select 5 positive and 5 negative reviews based on model predictions\n",
        "    np.random.seed(42)  # For reproducibility\n",
        "    positive_indices = np.where(y_pred == 1)[0]\n",
        "    negative_indices = np.where(y_pred == 0)[0]\n",
        "\n",
        "    num_positive = min(5, len(positive_indices))\n",
        "    num_negative = min(5, len(negative_indices))\n",
        "\n",
        "    if num_positive < 5 or num_negative < 5:\n",
        "        print(\"Warning: Not enough samples to select 5 positive and 5 negative reviews.\")\n",
        "\n",
        "    selected_positive = np.random.choice(positive_indices, size=num_positive, replace=False)\n",
        "    selected_negative = np.random.choice(negative_indices, size=num_negative, replace=False)\n",
        "    selected_indices = np.concatenate([selected_positive, selected_negative])\n",
        "\n",
        "    selected_reviews = test_reviews.iloc[selected_indices].reset_index(drop=True)\n",
        "    selected_labels = y_pred[selected_indices]\n",
        "\n",
        "    # Create directory to save interpretability plots and highlighted reviews\n",
        "    plots_dir = os.path.join(DATA_DIR, 'interpretability_plots')\n",
        "    os.makedirs(plots_dir, exist_ok=True)\n",
        "    highlighted_dir = os.path.join(plots_dir, 'highlighted_reviews')\n",
        "    os.makedirs(highlighted_dir, exist_ok=True)\n",
        "\n",
        "    # Global Interpretability for LogisticRegression\n",
        "    if isinstance(model, LogisticRegression):\n",
        "        if hasattr(model, 'coef_'):\n",
        "            coefficients = model.coef_[0]\n",
        "            feature_names = vectorizer.get_feature_names_out()\n",
        "            coef_df = pd.DataFrame({\n",
        "                'feature': feature_names,\n",
        "                'coefficient': coefficients\n",
        "            }).sort_values('coefficient', ascending=False)\n",
        "\n",
        "            top_positive = coef_df.head(10)\n",
        "            top_negative = coef_df.tail(10)\n",
        "\n",
        "            plt.figure(figsize=(12, 12))\n",
        "            plt.subplot(1, 2, 1)\n",
        "            sns.barplot(data=top_positive, x='coefficient', y='feature', palette='Greens_d')\n",
        "            plt.title('Top 10 Positive Coefficients')\n",
        "\n",
        "            plt.subplot(1, 2, 2)\n",
        "            sns.barplot(data=top_negative, x='coefficient', y='feature', palette='Reds_d')\n",
        "            plt.title('Top 10 Negative Coefficients')\n",
        "\n",
        "            plt.tight_layout()\n",
        "            plt.savefig(os.path.join(plots_dir, 'coefficients.png'))\n",
        "            plt.close()\n"
      ],
      "metadata": {
        "id": "9gUx2QdTz_dA"
      },
      "execution_count": null,
      "outputs": []
    },
    {
      "cell_type": "markdown",
      "source": [
        "=============================================== CODE ARCHIVE ==================================="
      ],
      "metadata": {
        "id": "Qcl6ghZrb0V7"
      }
    },
    {
      "cell_type": "code",
      "source": [
        "l1_ratio_space = np.linspace(0, 1, 10)\n",
        "for l1_ratio in l1_ratio_space:\n",
        "    model = LogisticRegression(\n",
        "        penalty='elasticnet',\n",
        "        solver='saga',\n",
        "        l1_ratio=l1_ratio,\n",
        "        C=5\n",
        "    )\n",
        "    model.fit(X_train, y_train)\n",
        "    y_pred_proba = model.predict_proba(X_train)[:, 1]\n",
        "    auc_score = roc_auc_score(y_train, y_pred_proba)\n",
        "    print(f\"l1_ratio = {l1_ratio} Baseline Logistic Regression AUC in split {i+1}: {auc_baseline:.3f}\")"
      ],
      "metadata": {
        "id": "OUc6EY6WbzRt"
      },
      "execution_count": null,
      "outputs": []
    }
  ]
}